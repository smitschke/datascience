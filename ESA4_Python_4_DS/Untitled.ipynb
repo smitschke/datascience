{
 "cells": [
  {
   "cell_type": "code",
   "execution_count": 1,
   "metadata": {},
   "outputs": [
    {
     "data": {
      "text/plain": [
       "'ESA4 - Python 4 Data Science Excercise\\n\\n1. Aufgabe: erledigt - sonst würde es diese Datei ja nicht geben \\n2. \"I read the first X (X>=25) exersises\" :D\\n3. Folgt weiter unten in der Datei\\n'"
      ]
     },
     "execution_count": 1,
     "metadata": {},
     "output_type": "execute_result"
    }
   ],
   "source": [
    "\"\"\"ESA4 - Python 4 Data Science Excercise\n",
    "\n",
    "1. Aufgabe: erledigt - sonst würde es diese Datei ja nicht geben \n",
    "2. \"I read the first X (X>=25) exersises\" :D\n",
    "3. Folgt weiter unten in der Datei\n",
    "\"\"\""
   ]
  },
  {
   "cell_type": "code",
   "execution_count": null,
   "metadata": {},
   "outputs": [],
   "source": [
    "import numpy as np\n",
    "\n"
   ]
  }
 ],
 "metadata": {
  "kernelspec": {
   "display_name": "Python 3",
   "language": "python",
   "name": "python3"
  },
  "language_info": {
   "codemirror_mode": {
    "name": "ipython",
    "version": 3
   },
   "file_extension": ".py",
   "mimetype": "text/x-python",
   "name": "python",
   "nbconvert_exporter": "python",
   "pygments_lexer": "ipython3",
   "version": "3.7.7"
  }
 },
 "nbformat": 4,
 "nbformat_minor": 4
}
